{
 "cells": [
  {
   "cell_type": "code",
   "execution_count": 2,
   "id": "059c95cd",
   "metadata": {},
   "outputs": [],
   "source": [
    "import pandas as pd\n",
    "from jupyterthemes import jtplot\n",
    "import numpy as np\n",
    "import pylab as plt\n",
    "\n",
    "jtplot.style()"
   ]
  },
  {
   "cell_type": "code",
   "execution_count": 64,
   "id": "576d58f8",
   "metadata": {},
   "outputs": [],
   "source": [
    "df=pd.read_csv('../qmodels/relaxation_1980.csv',index_col=0).T.rename(columns={0:'R',1:'L',2:'RL'})"
   ]
  },
  {
   "cell_type": "code",
   "execution_count": 65,
   "id": "f47b4411",
   "metadata": {},
   "outputs": [
    {
     "data": {
      "text/html": [
       "<div>\n",
       "<style scoped>\n",
       "    .dataframe tbody tr th:only-of-type {\n",
       "        vertical-align: middle;\n",
       "    }\n",
       "\n",
       "    .dataframe tbody tr th {\n",
       "        vertical-align: top;\n",
       "    }\n",
       "\n",
       "    .dataframe thead th {\n",
       "        text-align: right;\n",
       "    }\n",
       "</style>\n",
       "<table border=\"1\" class=\"dataframe\">\n",
       "  <thead>\n",
       "    <tr style=\"text-align: right;\">\n",
       "      <th></th>\n",
       "      <th>R</th>\n",
       "      <th>L</th>\n",
       "      <th>RL</th>\n",
       "    </tr>\n",
       "  </thead>\n",
       "  <tbody>\n",
       "    <tr>\n",
       "      <th>1</th>\n",
       "      <td>0.127275</td>\n",
       "      <td>0.126215</td>\n",
       "      <td>0.107205</td>\n",
       "    </tr>\n",
       "    <tr>\n",
       "      <th>101</th>\n",
       "      <td>0.232988</td>\n",
       "      <td>0.266529</td>\n",
       "      <td>0.272860</td>\n",
       "    </tr>\n",
       "    <tr>\n",
       "      <th>201</th>\n",
       "      <td>0.183198</td>\n",
       "      <td>0.190130</td>\n",
       "      <td>0.217241</td>\n",
       "    </tr>\n",
       "    <tr>\n",
       "      <th>301</th>\n",
       "      <td>0.204412</td>\n",
       "      <td>0.182240</td>\n",
       "      <td>0.148096</td>\n",
       "    </tr>\n",
       "    <tr>\n",
       "      <th>401</th>\n",
       "      <td>0.168168</td>\n",
       "      <td>0.156121</td>\n",
       "      <td>0.151304</td>\n",
       "    </tr>\n",
       "    <tr>\n",
       "      <th>...</th>\n",
       "      <td>...</td>\n",
       "      <td>...</td>\n",
       "      <td>...</td>\n",
       "    </tr>\n",
       "    <tr>\n",
       "      <th>9501</th>\n",
       "      <td>0.143673</td>\n",
       "      <td>0.149554</td>\n",
       "      <td>0.071148</td>\n",
       "    </tr>\n",
       "    <tr>\n",
       "      <th>9601</th>\n",
       "      <td>0.142714</td>\n",
       "      <td>0.139478</td>\n",
       "      <td>0.071024</td>\n",
       "    </tr>\n",
       "    <tr>\n",
       "      <th>9701</th>\n",
       "      <td>0.145885</td>\n",
       "      <td>0.150131</td>\n",
       "      <td>0.072501</td>\n",
       "    </tr>\n",
       "    <tr>\n",
       "      <th>9801</th>\n",
       "      <td>0.146442</td>\n",
       "      <td>0.145068</td>\n",
       "      <td>0.073057</td>\n",
       "    </tr>\n",
       "    <tr>\n",
       "      <th>9901</th>\n",
       "      <td>0.141086</td>\n",
       "      <td>0.138349</td>\n",
       "      <td>0.072527</td>\n",
       "    </tr>\n",
       "  </tbody>\n",
       "</table>\n",
       "<p>100 rows × 3 columns</p>\n",
       "</div>"
      ],
      "text/plain": [
       "             R         L        RL\n",
       "1     0.127275  0.126215  0.107205\n",
       "101   0.232988  0.266529  0.272860\n",
       "201   0.183198  0.190130  0.217241\n",
       "301   0.204412  0.182240  0.148096\n",
       "401   0.168168  0.156121  0.151304\n",
       "...        ...       ...       ...\n",
       "9501  0.143673  0.149554  0.071148\n",
       "9601  0.142714  0.139478  0.071024\n",
       "9701  0.145885  0.150131  0.072501\n",
       "9801  0.146442  0.145068  0.073057\n",
       "9901  0.141086  0.138349  0.072527\n",
       "\n",
       "[100 rows x 3 columns]"
      ]
     },
     "execution_count": 65,
     "metadata": {},
     "output_type": "execute_result"
    }
   ],
   "source": [
    "df"
   ]
  },
  {
   "cell_type": "code",
   "execution_count": 66,
   "id": "9b10054d",
   "metadata": {},
   "outputs": [],
   "source": [
    "import math\n",
    "\n",
    "def triangle_area(a, b, c):\n",
    "    \"\"\"Calculate the area of a triangle given its side lengths using Heron's formula.\"\"\"\n",
    "    s = (a + b + c) / 2\n",
    "    a=(s * (s - a) * (s - b) * (s - c))\n",
    "    if a > 0:\n",
    "         return math.sqrt(s * (s - a) * (s - b) * (s - c))\n",
    "    else:\n",
    "         return 0.\n",
    "\n",
    "def calculate_changes(triangle1, triangle2):\n",
    "    \"\"\"Calculate changes in area and side lengths between two triangles.\"\"\"\n",
    "    area1 = triangle_area(*triangle1)\n",
    "    area2 = triangle_area(*triangle2)\n",
    "\n",
    "    area_change = area2 - area1\n",
    "    #side_length_changes = [triangle2[i] - triangle1[i] for i in range(3)]\n",
    "\n",
    "    return area_change"
   ]
  },
  {
   "cell_type": "code",
   "execution_count": 67,
   "id": "51079f19",
   "metadata": {},
   "outputs": [],
   "source": [
    "Z=df.head(1).values[0]\n",
    "def getChange(row,R0=Z[0],L0=Z[1],RL0=Z[2]):\n",
    "    return calculate_changes((R0,L0,RL0),(row.R,row.L,row.RL))\n",
    "def getChangeS(row,R0=Z[0],L0=Z[1],RL0=Z[2]):\n",
    "    return .1*np.array(calculate_changes((R0,L0,RL0),(row.R,row.L,row.RL))[1]).mean()\n"
   ]
  },
  {
   "cell_type": "code",
   "execution_count": 68,
   "id": "0b1d8b52",
   "metadata": {},
   "outputs": [
    {
     "data": {
      "text/html": [
       "<div>\n",
       "<style scoped>\n",
       "    .dataframe tbody tr th:only-of-type {\n",
       "        vertical-align: middle;\n",
       "    }\n",
       "\n",
       "    .dataframe tbody tr th {\n",
       "        vertical-align: top;\n",
       "    }\n",
       "\n",
       "    .dataframe thead th {\n",
       "        text-align: right;\n",
       "    }\n",
       "</style>\n",
       "<table border=\"1\" class=\"dataframe\">\n",
       "  <thead>\n",
       "    <tr style=\"text-align: right;\">\n",
       "      <th></th>\n",
       "      <th>R</th>\n",
       "      <th>L</th>\n",
       "      <th>RL</th>\n",
       "      <th>dA</th>\n",
       "    </tr>\n",
       "  </thead>\n",
       "  <tbody>\n",
       "    <tr>\n",
       "      <th>1</th>\n",
       "      <td>0.127275</td>\n",
       "      <td>0.126215</td>\n",
       "      <td>0.107205</td>\n",
       "      <td>0.000000</td>\n",
       "    </tr>\n",
       "    <tr>\n",
       "      <th>101</th>\n",
       "      <td>0.232988</td>\n",
       "      <td>0.266529</td>\n",
       "      <td>0.272860</td>\n",
       "      <td>0.033578</td>\n",
       "    </tr>\n",
       "    <tr>\n",
       "      <th>201</th>\n",
       "      <td>0.183198</td>\n",
       "      <td>0.190130</td>\n",
       "      <td>0.217241</td>\n",
       "      <td>0.015391</td>\n",
       "    </tr>\n",
       "    <tr>\n",
       "      <th>301</th>\n",
       "      <td>0.204412</td>\n",
       "      <td>0.182240</td>\n",
       "      <td>0.148096</td>\n",
       "      <td>0.015588</td>\n",
       "    </tr>\n",
       "    <tr>\n",
       "      <th>401</th>\n",
       "      <td>0.168168</td>\n",
       "      <td>0.156121</td>\n",
       "      <td>0.151304</td>\n",
       "      <td>0.008635</td>\n",
       "    </tr>\n",
       "    <tr>\n",
       "      <th>...</th>\n",
       "      <td>...</td>\n",
       "      <td>...</td>\n",
       "      <td>...</td>\n",
       "      <td>...</td>\n",
       "    </tr>\n",
       "    <tr>\n",
       "      <th>9501</th>\n",
       "      <td>0.143673</td>\n",
       "      <td>0.149554</td>\n",
       "      <td>0.071148</td>\n",
       "      <td>-0.000381</td>\n",
       "    </tr>\n",
       "    <tr>\n",
       "      <th>9601</th>\n",
       "      <td>0.142714</td>\n",
       "      <td>0.139478</td>\n",
       "      <td>0.071024</td>\n",
       "      <td>-0.000290</td>\n",
       "    </tr>\n",
       "    <tr>\n",
       "      <th>9701</th>\n",
       "      <td>0.145885</td>\n",
       "      <td>0.150131</td>\n",
       "      <td>0.072501</td>\n",
       "      <td>0.000032</td>\n",
       "    </tr>\n",
       "    <tr>\n",
       "      <th>9801</th>\n",
       "      <td>0.146442</td>\n",
       "      <td>0.145068</td>\n",
       "      <td>0.073057</td>\n",
       "      <td>0.000274</td>\n",
       "    </tr>\n",
       "    <tr>\n",
       "      <th>9901</th>\n",
       "      <td>0.141086</td>\n",
       "      <td>0.138349</td>\n",
       "      <td>0.072527</td>\n",
       "      <td>-0.000367</td>\n",
       "    </tr>\n",
       "  </tbody>\n",
       "</table>\n",
       "<p>100 rows × 4 columns</p>\n",
       "</div>"
      ],
      "text/plain": [
       "             R         L        RL        dA\n",
       "1     0.127275  0.126215  0.107205  0.000000\n",
       "101   0.232988  0.266529  0.272860  0.033578\n",
       "201   0.183198  0.190130  0.217241  0.015391\n",
       "301   0.204412  0.182240  0.148096  0.015588\n",
       "401   0.168168  0.156121  0.151304  0.008635\n",
       "...        ...       ...       ...       ...\n",
       "9501  0.143673  0.149554  0.071148 -0.000381\n",
       "9601  0.142714  0.139478  0.071024 -0.000290\n",
       "9701  0.145885  0.150131  0.072501  0.000032\n",
       "9801  0.146442  0.145068  0.073057  0.000274\n",
       "9901  0.141086  0.138349  0.072527 -0.000367\n",
       "\n",
       "[100 rows x 4 columns]"
      ]
     },
     "execution_count": 68,
     "metadata": {},
     "output_type": "execute_result"
    }
   ],
   "source": [
    "df['dA']=df.apply(getChange,axis=1)\n",
    "#df['ds']=df.apply(getChangeS,axis=1)\n",
    "df"
   ]
  },
  {
   "cell_type": "code",
   "execution_count": 69,
   "id": "988856f3",
   "metadata": {},
   "outputs": [
    {
     "data": {
      "text/plain": [
       "<AxesSubplot:>"
      ]
     },
     "execution_count": 69,
     "metadata": {},
     "output_type": "execute_result"
    },
    {
     "data": {
      "image/png": "[encoded data removed]",
      "text/plain": [
       "<Figure size 432x288 with 1 Axes>"
      ]
     },
     "metadata": {
      "needs_background": "dark"
     },
     "output_type": "display_data"
    }
   ],
   "source": [
    "df.dA.plot(style='--o')\n",
    "#df.ds.plot(style='--o')\n"
   ]
  },
  {
   "cell_type": "code",
   "execution_count": 89,
   "id": "2460f1c0",
   "metadata": {},
   "outputs": [],
   "source": [
    "# Exponential decay function\n",
    "def exponential_decay(t, A, lambda_, B):\n",
    "    return A * np.exp(-lambda_ * t) + B\n",
    "# Exponential decay function\n",
    "def polyspike(t, a,b,c):\n",
    "    return a*t**2 + b*t + c\n",
    "N=2\n",
    "\n",
    "Model={}\n",
    "Model['spikemodel']=polyspike\n",
    "Model['decaymodel']=exponential_decay\n",
    "Model['split']=N\n",
    "Model['param_spike']=(0,0,0)\n",
    "Model['param_decay']=(0,0,0)\n",
    "Model['time'] = df.index.values.astype(float)*(1/1000)\n",
    "\n",
    "def genresponse(Model):\n",
    "    ys=Model['spikemodel'](Model['time'][:Model['split']], Model['param_spike'][0],Model['param_spike'][1],Model['param_spike'][2] )\n",
    "    yd=Model['decaymodel'](Model['time'][Model['split']:], Model['param_decay'][0],Model['param_decay'][1], Model['param_decay'][2])\n",
    "    return np.array(list(ys)+list(yd))\n",
    "\n",
    "Model['genresponse'] = genresponse\n",
    "Model['response'] = None"
   ]
  },
  {
   "cell_type": "code",
   "execution_count": 105,
   "id": "c3bb1377",
   "metadata": {},
   "outputs": [],
   "source": [
    "df_= df[N:]\n",
    "time=np.array(df_.index.values).astype(float)/10000\n",
    "variable = df_.dA.ewm(alpha=.05).mean().values\n",
    "from scipy.optimize import curve_fit\n",
    "paramsE, covarianceE = curve_fit(exponential_decay, time, variable,maxfev = 80000)\n",
    "\n",
    "timeA=time.copy()\n",
    "yA=exponential_decay(time, *paramsE).copy()\n",
    "Model['param_decay']=(paramsE[0],paramsE[1],paramsE[2])\n",
    "yE=exponential_decay(time, *paramsE)"
   ]
  },
  {
   "cell_type": "code",
   "execution_count": 110,
   "id": "3ff89e11",
   "metadata": {},
   "outputs": [],
   "source": [
    "pd.DataFrame(df_.dA).to_csv('xx.csv')\n",
    "#plt.plot(yA)"
   ]
  },
  {
   "cell_type": "code",
   "execution_count": 112,
   "id": "28aa8cc6",
   "metadata": {},
   "outputs": [
    {
     "data": {
      "text/plain": [
       "4.850257943693128"
      ]
     },
     "execution_count": 112,
     "metadata": {},
     "output_type": "execute_result"
    }
   ],
   "source": [
    "response_data = df_['dA'].values\n",
    "time = np.arange(len(response_data))\n",
    "\n",
    "def decay_function(t, A, tau, C):\n",
    "    return A * np.exp(-t / tau) + C\n",
    "\n",
    "params, covariance = curve_fit(decay_function, time, response_data)\n",
    "time_constant_tau = params[1]\n",
    "time_constant_tau"
   ]
  },
  {
   "cell_type": "code",
   "execution_count": 91,
   "id": "81fb759a",
   "metadata": {},
   "outputs": [
    {
     "ename": "TypeError",
     "evalue": "The number of func parameters=3 must not exceed the number of data points=2",
     "output_type": "error",
     "traceback": [
      "\u001b[0;31m---------------------------------------------------------------------------\u001b[0m",
      "\u001b[0;31mTypeError\u001b[0m                                 Traceback (most recent call last)",
      "\u001b[0;32m/tmp/ipykernel_2606904/1155697162.py\u001b[0m in \u001b[0;36m<module>\u001b[0;34m\u001b[0m\n\u001b[1;32m      3\u001b[0m \u001b[0mvariable\u001b[0m \u001b[0;34m=\u001b[0m \u001b[0mdf_\u001b[0m\u001b[0;34m.\u001b[0m\u001b[0mdA\u001b[0m\u001b[0;34m.\u001b[0m\u001b[0mvalues\u001b[0m\u001b[0;34m\u001b[0m\u001b[0;34m\u001b[0m\u001b[0m\n\u001b[1;32m      4\u001b[0m \u001b[0;32mfrom\u001b[0m \u001b[0mscipy\u001b[0m\u001b[0;34m.\u001b[0m\u001b[0moptimize\u001b[0m \u001b[0;32mimport\u001b[0m \u001b[0mcurve_fit\u001b[0m\u001b[0;34m\u001b[0m\u001b[0;34m\u001b[0m\u001b[0m\n\u001b[0;32m----> 5\u001b[0;31m \u001b[0mparamsi\u001b[0m\u001b[0;34m,\u001b[0m \u001b[0mcovariancei\u001b[0m \u001b[0;34m=\u001b[0m \u001b[0mcurve_fit\u001b[0m\u001b[0;34m(\u001b[0m\u001b[0mpolyspike\u001b[0m\u001b[0;34m,\u001b[0m \u001b[0mtime\u001b[0m\u001b[0;34m,\u001b[0m \u001b[0mvariable\u001b[0m\u001b[0;34m,\u001b[0m\u001b[0mmaxfev\u001b[0m \u001b[0;34m=\u001b[0m \u001b[0;36m20000\u001b[0m\u001b[0;34m)\u001b[0m\u001b[0;34m\u001b[0m\u001b[0;34m\u001b[0m\u001b[0m\n\u001b[0m\u001b[1;32m      6\u001b[0m \u001b[0ma\u001b[0m\u001b[0;34m,\u001b[0m\u001b[0mb\u001b[0m\u001b[0;34m,\u001b[0m\u001b[0mc\u001b[0m\u001b[0;34m=\u001b[0m\u001b[0mparamsi\u001b[0m\u001b[0;34m\u001b[0m\u001b[0;34m\u001b[0m\u001b[0m\n\u001b[1;32m      7\u001b[0m \u001b[0mtimeB\u001b[0m\u001b[0;34m=\u001b[0m\u001b[0mtime\u001b[0m\u001b[0;34m.\u001b[0m\u001b[0mcopy\u001b[0m\u001b[0;34m(\u001b[0m\u001b[0;34m)\u001b[0m\u001b[0;34m\u001b[0m\u001b[0;34m\u001b[0m\u001b[0m\n",
      "\u001b[0;32m~/.local/lib/python3.10/site-packages/scipy/optimize/_minpack_py.py\u001b[0m in \u001b[0;36mcurve_fit\u001b[0;34m(f, xdata, ydata, p0, sigma, absolute_sigma, check_finite, bounds, method, jac, full_output, **kwargs)\u001b[0m\n\u001b[1;32m    855\u001b[0m         \u001b[0;31m# if ydata.size == 1, this might be used for broadcast.\u001b[0m\u001b[0;34m\u001b[0m\u001b[0;34m\u001b[0m\u001b[0m\n\u001b[1;32m    856\u001b[0m         \u001b[0;32mif\u001b[0m \u001b[0mydata\u001b[0m\u001b[0;34m.\u001b[0m\u001b[0msize\u001b[0m \u001b[0;34m!=\u001b[0m \u001b[0;36m1\u001b[0m \u001b[0;32mand\u001b[0m \u001b[0mn\u001b[0m \u001b[0;34m>\u001b[0m \u001b[0mydata\u001b[0m\u001b[0;34m.\u001b[0m\u001b[0msize\u001b[0m\u001b[0;34m:\u001b[0m\u001b[0;34m\u001b[0m\u001b[0;34m\u001b[0m\u001b[0m\n\u001b[0;32m--> 857\u001b[0;31m             raise TypeError(f\"The number of func parameters={n} must not\"\n\u001b[0m\u001b[1;32m    858\u001b[0m                             f\" exceed the number of data points={ydata.size}\")\n\u001b[1;32m    859\u001b[0m         \u001b[0mres\u001b[0m \u001b[0;34m=\u001b[0m \u001b[0mleastsq\u001b[0m\u001b[0;34m(\u001b[0m\u001b[0mfunc\u001b[0m\u001b[0;34m,\u001b[0m \u001b[0mp0\u001b[0m\u001b[0;34m,\u001b[0m \u001b[0mDfun\u001b[0m\u001b[0;34m=\u001b[0m\u001b[0mjac\u001b[0m\u001b[0;34m,\u001b[0m \u001b[0mfull_output\u001b[0m\u001b[0;34m=\u001b[0m\u001b[0;36m1\u001b[0m\u001b[0;34m,\u001b[0m \u001b[0;34m**\u001b[0m\u001b[0mkwargs\u001b[0m\u001b[0;34m)\u001b[0m\u001b[0;34m\u001b[0m\u001b[0;34m\u001b[0m\u001b[0m\n",
      "\u001b[0;31mTypeError\u001b[0m: The number of func parameters=3 must not exceed the number of data points=2"
     ]
    }
   ],
   "source": [
    "df_= df[:N]\n",
    "time=np.array(df_.index.values).astype(float)/10000\n",
    "variable = df_.dA.values\n",
    "from scipy.optimize import curve_fit\n",
    "paramsi, covariancei = curve_fit(polyspike, time, variable,maxfev = 20000)\n",
    "a,b,c=paramsi\n",
    "timeB=time.copy()\n",
    "yB=polyspike(time, a,b,c).copy()\n",
    "Model['param_spike']=(paramsi[0],paramsi[1],paramsi[2])"
   ]
  },
  {
   "cell_type": "code",
   "execution_count": 92,
   "id": "649dc3e0",
   "metadata": {},
   "outputs": [],
   "source": [
    "Model['response']=np.array(list(yB)+list(yE))"
   ]
  },
  {
   "cell_type": "code",
   "execution_count": 93,
   "id": "ad527ed4",
   "metadata": {},
   "outputs": [
    {
     "ename": "ValueError",
     "evalue": "x and y must have same first dimension, but have shapes (100,) and (102,)",
     "output_type": "error",
     "traceback": [
      "\u001b[0;31m---------------------------------------------------------------------------\u001b[0m",
      "\u001b[0;31mValueError\u001b[0m                                Traceback (most recent call last)",
      "\u001b[0;32m/tmp/ipykernel_2606904/2512034047.py\u001b[0m in \u001b[0;36m<module>\u001b[0;34m\u001b[0m\n\u001b[1;32m      2\u001b[0m \u001b[0mplt\u001b[0m\u001b[0;34m.\u001b[0m\u001b[0mscatter\u001b[0m\u001b[0;34m(\u001b[0m\u001b[0mtime\u001b[0m\u001b[0;34m/\u001b[0m\u001b[0;36m1000\u001b[0m\u001b[0;34m,\u001b[0m \u001b[0mdf\u001b[0m\u001b[0;34m.\u001b[0m\u001b[0mdA\u001b[0m\u001b[0;34m.\u001b[0m\u001b[0mvalues\u001b[0m\u001b[0;34m,\u001b[0m \u001b[0mlabel\u001b[0m\u001b[0;34m=\u001b[0m\u001b[0;34m'Data'\u001b[0m\u001b[0;34m)\u001b[0m\u001b[0;34m\u001b[0m\u001b[0;34m\u001b[0m\u001b[0m\n\u001b[1;32m      3\u001b[0m \u001b[0;31m#plt.plot(time[:4]*10000, polyspike(time[:4], *paramsi), label='Fit', color='red')\u001b[0m\u001b[0;34m\u001b[0m\u001b[0;34m\u001b[0m\u001b[0m\n\u001b[0;32m----> 4\u001b[0;31m \u001b[0mplt\u001b[0m\u001b[0;34m.\u001b[0m\u001b[0mplot\u001b[0m\u001b[0;34m(\u001b[0m\u001b[0mModel\u001b[0m\u001b[0;34m[\u001b[0m\u001b[0;34m'time'\u001b[0m\u001b[0;34m]\u001b[0m\u001b[0;34m,\u001b[0m \u001b[0mModel\u001b[0m\u001b[0;34m[\u001b[0m\u001b[0;34m'response'\u001b[0m\u001b[0;34m]\u001b[0m\u001b[0;34m,\u001b[0m \u001b[0mlabel\u001b[0m\u001b[0;34m=\u001b[0m\u001b[0;34m'Fit'\u001b[0m\u001b[0;34m,\u001b[0m \u001b[0mcolor\u001b[0m\u001b[0;34m=\u001b[0m\u001b[0;34m'red'\u001b[0m\u001b[0;34m)\u001b[0m\u001b[0;34m\u001b[0m\u001b[0;34m\u001b[0m\u001b[0m\n\u001b[0m\u001b[1;32m      5\u001b[0m \u001b[0;31m#plt.xscale('symlog')\u001b[0m\u001b[0;34m\u001b[0m\u001b[0;34m\u001b[0m\u001b[0m\n\u001b[1;32m      6\u001b[0m \u001b[0mplt\u001b[0m\u001b[0;34m.\u001b[0m\u001b[0mxlabel\u001b[0m\u001b[0;34m(\u001b[0m\u001b[0;34m'Time'\u001b[0m\u001b[0;34m)\u001b[0m\u001b[0;34m\u001b[0m\u001b[0;34m\u001b[0m\u001b[0m\n",
      "\u001b[0;32m/usr/lib64/python3.10/site-packages/matplotlib/pyplot.py\u001b[0m in \u001b[0;36mplot\u001b[0;34m(scalex, scaley, data, *args, **kwargs)\u001b[0m\n\u001b[1;32m   2765\u001b[0m \u001b[0;34m@\u001b[0m\u001b[0m_copy_docstring_and_deprecators\u001b[0m\u001b[0;34m(\u001b[0m\u001b[0mAxes\u001b[0m\u001b[0;34m.\u001b[0m\u001b[0mplot\u001b[0m\u001b[0;34m)\u001b[0m\u001b[0;34m\u001b[0m\u001b[0;34m\u001b[0m\u001b[0m\n\u001b[1;32m   2766\u001b[0m \u001b[0;32mdef\u001b[0m \u001b[0mplot\u001b[0m\u001b[0;34m(\u001b[0m\u001b[0;34m*\u001b[0m\u001b[0margs\u001b[0m\u001b[0;34m,\u001b[0m \u001b[0mscalex\u001b[0m\u001b[0;34m=\u001b[0m\u001b[0;32mTrue\u001b[0m\u001b[0;34m,\u001b[0m \u001b[0mscaley\u001b[0m\u001b[0;34m=\u001b[0m\u001b[0;32mTrue\u001b[0m\u001b[0;34m,\u001b[0m \u001b[0mdata\u001b[0m\u001b[0;34m=\u001b[0m\u001b[0;32mNone\u001b[0m\u001b[0;34m,\u001b[0m \u001b[0;34m**\u001b[0m\u001b[0mkwargs\u001b[0m\u001b[0;34m)\u001b[0m\u001b[0;34m:\u001b[0m\u001b[0;34m\u001b[0m\u001b[0;34m\u001b[0m\u001b[0m\n\u001b[0;32m-> 2767\u001b[0;31m     return gca().plot(\n\u001b[0m\u001b[1;32m   2768\u001b[0m         \u001b[0;34m*\u001b[0m\u001b[0margs\u001b[0m\u001b[0;34m,\u001b[0m \u001b[0mscalex\u001b[0m\u001b[0;34m=\u001b[0m\u001b[0mscalex\u001b[0m\u001b[0;34m,\u001b[0m \u001b[0mscaley\u001b[0m\u001b[0;34m=\u001b[0m\u001b[0mscaley\u001b[0m\u001b[0;34m,\u001b[0m\u001b[0;34m\u001b[0m\u001b[0;34m\u001b[0m\u001b[0m\n\u001b[1;32m   2769\u001b[0m         **({\"data\": data} if data is not None else {}), **kwargs)\n",
      "\u001b[0;32m/usr/lib64/python3.10/site-packages/matplotlib/axes/_axes.py\u001b[0m in \u001b[0;36mplot\u001b[0;34m(self, scalex, scaley, data, *args, **kwargs)\u001b[0m\n\u001b[1;32m   1633\u001b[0m         \"\"\"\n\u001b[1;32m   1634\u001b[0m         \u001b[0mkwargs\u001b[0m \u001b[0;34m=\u001b[0m \u001b[0mcbook\u001b[0m\u001b[0;34m.\u001b[0m\u001b[0mnormalize_kwargs\u001b[0m\u001b[0;34m(\u001b[0m\u001b[0mkwargs\u001b[0m\u001b[0;34m,\u001b[0m \u001b[0mmlines\u001b[0m\u001b[0;34m.\u001b[0m\u001b[0mLine2D\u001b[0m\u001b[0;34m)\u001b[0m\u001b[0;34m\u001b[0m\u001b[0;34m\u001b[0m\u001b[0m\n\u001b[0;32m-> 1635\u001b[0;31m         \u001b[0mlines\u001b[0m \u001b[0;34m=\u001b[0m \u001b[0;34m[\u001b[0m\u001b[0;34m*\u001b[0m\u001b[0mself\u001b[0m\u001b[0;34m.\u001b[0m\u001b[0m_get_lines\u001b[0m\u001b[0;34m(\u001b[0m\u001b[0;34m*\u001b[0m\u001b[0margs\u001b[0m\u001b[0;34m,\u001b[0m \u001b[0mdata\u001b[0m\u001b[0;34m=\u001b[0m\u001b[0mdata\u001b[0m\u001b[0;34m,\u001b[0m \u001b[0;34m**\u001b[0m\u001b[0mkwargs\u001b[0m\u001b[0;34m)\u001b[0m\u001b[0;34m]\u001b[0m\u001b[0;34m\u001b[0m\u001b[0;34m\u001b[0m\u001b[0m\n\u001b[0m\u001b[1;32m   1636\u001b[0m         \u001b[0;32mfor\u001b[0m \u001b[0mline\u001b[0m \u001b[0;32min\u001b[0m \u001b[0mlines\u001b[0m\u001b[0;34m:\u001b[0m\u001b[0;34m\u001b[0m\u001b[0;34m\u001b[0m\u001b[0m\n\u001b[1;32m   1637\u001b[0m             \u001b[0mself\u001b[0m\u001b[0;34m.\u001b[0m\u001b[0madd_line\u001b[0m\u001b[0;34m(\u001b[0m\u001b[0mline\u001b[0m\u001b[0;34m)\u001b[0m\u001b[0;34m\u001b[0m\u001b[0;34m\u001b[0m\u001b[0m\n",
      "\u001b[0;32m/usr/lib64/python3.10/site-packages/matplotlib/axes/_base.py\u001b[0m in \u001b[0;36m__call__\u001b[0;34m(self, data, *args, **kwargs)\u001b[0m\n\u001b[1;32m    310\u001b[0m                 \u001b[0mthis\u001b[0m \u001b[0;34m+=\u001b[0m \u001b[0margs\u001b[0m\u001b[0;34m[\u001b[0m\u001b[0;36m0\u001b[0m\u001b[0;34m]\u001b[0m\u001b[0;34m,\u001b[0m\u001b[0;34m\u001b[0m\u001b[0;34m\u001b[0m\u001b[0m\n\u001b[1;32m    311\u001b[0m                 \u001b[0margs\u001b[0m \u001b[0;34m=\u001b[0m \u001b[0margs\u001b[0m\u001b[0;34m[\u001b[0m\u001b[0;36m1\u001b[0m\u001b[0;34m:\u001b[0m\u001b[0;34m]\u001b[0m\u001b[0;34m\u001b[0m\u001b[0;34m\u001b[0m\u001b[0m\n\u001b[0;32m--> 312\u001b[0;31m             \u001b[0;32myield\u001b[0m \u001b[0;32mfrom\u001b[0m \u001b[0mself\u001b[0m\u001b[0;34m.\u001b[0m\u001b[0m_plot_args\u001b[0m\u001b[0;34m(\u001b[0m\u001b[0mthis\u001b[0m\u001b[0;34m,\u001b[0m \u001b[0mkwargs\u001b[0m\u001b[0;34m)\u001b[0m\u001b[0;34m\u001b[0m\u001b[0;34m\u001b[0m\u001b[0m\n\u001b[0m\u001b[1;32m    313\u001b[0m \u001b[0;34m\u001b[0m\u001b[0m\n\u001b[1;32m    314\u001b[0m     \u001b[0;32mdef\u001b[0m \u001b[0mget_next_color\u001b[0m\u001b[0;34m(\u001b[0m\u001b[0mself\u001b[0m\u001b[0;34m)\u001b[0m\u001b[0;34m:\u001b[0m\u001b[0;34m\u001b[0m\u001b[0;34m\u001b[0m\u001b[0m\n",
      "\u001b[0;32m/usr/lib64/python3.10/site-packages/matplotlib/axes/_base.py\u001b[0m in \u001b[0;36m_plot_args\u001b[0;34m(self, tup, kwargs, return_kwargs)\u001b[0m\n\u001b[1;32m    496\u001b[0m \u001b[0;34m\u001b[0m\u001b[0m\n\u001b[1;32m    497\u001b[0m         \u001b[0;32mif\u001b[0m \u001b[0mx\u001b[0m\u001b[0;34m.\u001b[0m\u001b[0mshape\u001b[0m\u001b[0;34m[\u001b[0m\u001b[0;36m0\u001b[0m\u001b[0;34m]\u001b[0m \u001b[0;34m!=\u001b[0m \u001b[0my\u001b[0m\u001b[0;34m.\u001b[0m\u001b[0mshape\u001b[0m\u001b[0;34m[\u001b[0m\u001b[0;36m0\u001b[0m\u001b[0;34m]\u001b[0m\u001b[0;34m:\u001b[0m\u001b[0;34m\u001b[0m\u001b[0;34m\u001b[0m\u001b[0m\n\u001b[0;32m--> 498\u001b[0;31m             raise ValueError(f\"x and y must have same first dimension, but \"\n\u001b[0m\u001b[1;32m    499\u001b[0m                              f\"have shapes {x.shape} and {y.shape}\")\n\u001b[1;32m    500\u001b[0m         \u001b[0;32mif\u001b[0m \u001b[0mx\u001b[0m\u001b[0;34m.\u001b[0m\u001b[0mndim\u001b[0m \u001b[0;34m>\u001b[0m \u001b[0;36m2\u001b[0m \u001b[0;32mor\u001b[0m \u001b[0my\u001b[0m\u001b[0;34m.\u001b[0m\u001b[0mndim\u001b[0m \u001b[0;34m>\u001b[0m \u001b[0;36m2\u001b[0m\u001b[0;34m:\u001b[0m\u001b[0;34m\u001b[0m\u001b[0;34m\u001b[0m\u001b[0m\n",
      "\u001b[0;31mValueError\u001b[0m: x and y must have same first dimension, but have shapes (100,) and (102,)"
     ]
    },
    {
     "data": {
      "image/png": "[encoded data removed]",
      "text/plain": [
       "<Figure size 432x288 with 1 Axes>"
      ]
     },
     "metadata": {
      "needs_background": "dark"
     },
     "output_type": "display_data"
    }
   ],
   "source": [
    "time=np.array(df.index.values).astype(float)\n",
    "plt.scatter(time/1000, df.dA.values, label='Data')\n",
    "#plt.plot(time[:4]*10000, polyspike(time[:4], *paramsi), label='Fit', color='red')\n",
    "plt.plot(Model['time'], Model['response'], label='Fit', color='red')\n",
    "#plt.xscale('symlog')\n",
    "plt.xlabel('Time')\n",
    "plt.ylabel('Variable')\n",
    "plt.legend()"
   ]
  },
  {
   "cell_type": "code",
   "execution_count": 15,
   "id": "4546f5a6",
   "metadata": {},
   "outputs": [
    {
     "data": {
      "text/plain": [
       "{'spikemodel': <function __main__.polyspike(t, a, b, c)>,\n",
       " 'decaymodel': <function __main__.exponential_decay(t, A, lambda_, B)>,\n",
       " 'split': 4,\n",
       " 'param_spike': (-73.65737486801915,\n",
       "  2.5031522918575435,\n",
       "  0.0010325545016767604),\n",
       " 'param_decay': (0.11989040010618986, 70.43675719173226, 0.007513761613073105),\n",
       " 'time': array([1.000e-03, 1.010e-01, 2.010e-01, 3.010e-01, 4.010e-01, 5.010e-01,\n",
       "        6.010e-01, 7.010e-01, 8.010e-01, 9.010e-01, 1.001e+00, 1.101e+00,\n",
       "        1.201e+00, 1.301e+00, 1.401e+00, 1.501e+00, 1.601e+00, 1.701e+00,\n",
       "        1.801e+00, 1.901e+00, 2.001e+00, 2.101e+00, 2.201e+00, 2.301e+00,\n",
       "        2.401e+00, 2.501e+00, 2.601e+00, 2.701e+00, 2.801e+00, 2.901e+00,\n",
       "        3.001e+00, 3.101e+00, 3.201e+00, 3.301e+00, 3.401e+00, 3.501e+00,\n",
       "        3.601e+00, 3.701e+00, 3.801e+00, 3.901e+00, 4.001e+00, 4.101e+00,\n",
       "        4.201e+00, 4.301e+00, 4.401e+00, 4.501e+00, 4.601e+00, 4.701e+00,\n",
       "        4.801e+00, 4.901e+00, 5.001e+00, 5.101e+00, 5.201e+00, 5.301e+00,\n",
       "        5.401e+00, 5.501e+00, 5.601e+00, 5.701e+00, 5.801e+00, 5.901e+00,\n",
       "        6.001e+00, 6.101e+00, 6.201e+00, 6.301e+00, 6.401e+00, 6.501e+00,\n",
       "        6.601e+00, 6.701e+00, 6.801e+00, 6.901e+00, 7.001e+00, 7.101e+00,\n",
       "        7.201e+00, 7.301e+00, 7.401e+00, 7.501e+00, 7.601e+00, 7.701e+00,\n",
       "        7.801e+00, 7.901e+00, 8.001e+00, 8.101e+00, 8.201e+00, 8.301e+00,\n",
       "        8.401e+00, 8.501e+00, 8.601e+00, 8.701e+00, 8.801e+00, 8.901e+00,\n",
       "        9.001e+00, 9.101e+00, 9.201e+00, 9.301e+00, 9.401e+00, 9.501e+00,\n",
       "        9.601e+00, 9.701e+00, 9.801e+00, 9.901e+00]),\n",
       " 'genresponse': <function __main__.genresponse(Model)>,\n",
       " 'response': array([0.00128213, 0.0188006 , 0.0215876 , 0.00964312, 0.01462776,\n",
       "        0.01103107, 0.00925279, 0.00837358, 0.00793887, 0.00772395,\n",
       "        0.00761768, 0.00756514, 0.00753916, 0.00752632, 0.00751997,\n",
       "        0.00751683, 0.00751528, 0.00751451, 0.00751413, 0.00751395,\n",
       "        0.00751385, 0.00751381, 0.00751378, 0.00751377, 0.00751377,\n",
       "        0.00751376, 0.00751376, 0.00751376, 0.00751376, 0.00751376,\n",
       "        0.00751376, 0.00751376, 0.00751376, 0.00751376, 0.00751376,\n",
       "        0.00751376, 0.00751376, 0.00751376, 0.00751376, 0.00751376,\n",
       "        0.00751376, 0.00751376, 0.00751376, 0.00751376, 0.00751376,\n",
       "        0.00751376, 0.00751376, 0.00751376, 0.00751376, 0.00751376,\n",
       "        0.00751376, 0.00751376, 0.00751376, 0.00751376, 0.00751376,\n",
       "        0.00751376, 0.00751376, 0.00751376, 0.00751376, 0.00751376,\n",
       "        0.00751376, 0.00751376, 0.00751376, 0.00751376, 0.00751376,\n",
       "        0.00751376, 0.00751376, 0.00751376, 0.00751376, 0.00751376,\n",
       "        0.00751376, 0.00751376, 0.00751376, 0.00751376, 0.00751376,\n",
       "        0.00751376, 0.00751376, 0.00751376, 0.00751376, 0.00751376,\n",
       "        0.00751376, 0.00751376, 0.00751376, 0.00751376, 0.00751376,\n",
       "        0.00751376, 0.00751376, 0.00751376, 0.00751376, 0.00751376,\n",
       "        0.00751376, 0.00751376, 0.00751376, 0.00751376, 0.00751376,\n",
       "        0.00751376, 0.00751376, 0.00751376, 0.00751376, 0.00751376]),\n",
       " 'time_const': 70.43675719173226,\n",
       " 'half_life': 0.009840702613170637,\n",
       " 'amplitude': 2.5031522918575435}"
      ]
     },
     "execution_count": 15,
     "metadata": {},
     "output_type": "execute_result"
    }
   ],
   "source": [
    "Model['time_const']=Model['param_decay'][1]\n",
    "Model['half_life'] = np.log(2) / Model['time_const']\n",
    "Model['amplitude'] = Model['param_spike'][1]\n",
    "Model"
   ]
  },
  {
   "cell_type": "code",
   "execution_count": 1,
   "id": "e69b2052",
   "metadata": {},
   "outputs": [],
   "source": [
    "A=[1.5,1.3,.8]\n",
    "B=[275, 50, 25]"
   ]
  },
  {
   "cell_type": "code",
   "execution_count": 3,
   "id": "239485e2",
   "metadata": {},
   "outputs": [
    {
     "data": {
      "text/plain": [
       "[<matplotlib.lines.Line2D at 0x7f80b959f520>]"
      ]
     },
     "execution_count": 3,
     "metadata": {},
     "output_type": "execute_result"
    },
    {
     "data": {
      "image/png": "[encoded data removed]",
      "text/plain": [
       "<Figure size 432x288 with 1 Axes>"
      ]
     },
     "metadata": {
      "needs_background": "light"
     },
     "output_type": "display_data"
    }
   ],
   "source": [
    "import pylab as plt\n",
    "plt.plot(A,B)"
   ]
  },
  {
   "cell_type": "code",
   "execution_count": null,
   "id": "afe3e4ef",
   "metadata": {},
   "outputs": [],
   "source": []
  }
 ],
 "metadata": {
  "kernelspec": {
   "display_name": "Python 3 (ipykernel)",
   "language": "python",
   "name": "python3"
  },
  "language_info": {
   "codemirror_mode": {
    "name": "ipython",
    "version": 3
   },
   "file_extension": ".py",
   "mimetype": "text/x-python",
   "name": "python",
   "nbconvert_exporter": "python",
   "pygments_lexer": "ipython3",
   "version": "3.10.8"
  }
 },
 "nbformat": 4,
 "nbformat_minor": 5
}
