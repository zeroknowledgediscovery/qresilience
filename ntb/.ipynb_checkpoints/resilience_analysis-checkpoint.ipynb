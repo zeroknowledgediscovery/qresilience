{
 "cells": [
  {
   "cell_type": "code",
   "execution_count": 2,
   "id": "059c95cd",
   "metadata": {},
   "outputs": [],
   "source": [
    "import pandas as pd\n",
    "from jupyterthemes import jtplot\n",
    "import numpy as np\n",
    "import pylab as plt\n",
    "\n",
    "jtplot.style()"
   ]
  },
  {
   "cell_type": "code",
   "execution_count": 3,
   "id": "576d58f8",
   "metadata": {},
   "outputs": [],
   "source": [
    "df=pd.read_csv('../qmodels/relaxation_1972.csv',index_col=0).T.rename(columns={0:'R',1:'L',2:'RL'})"
   ]
  },
  {
   "cell_type": "code",
   "execution_count": 4,
   "id": "f47b4411",
   "metadata": {},
   "outputs": [
    {
     "data": {
      "text/html": [
       "<div>\n",
       "<style scoped>\n",
       "    .dataframe tbody tr th:only-of-type {\n",
       "        vertical-align: middle;\n",
       "    }\n",
       "\n",
       "    .dataframe tbody tr th {\n",
       "        vertical-align: top;\n",
       "    }\n",
       "\n",
       "    .dataframe thead th {\n",
       "        text-align: right;\n",
       "    }\n",
       "</style>\n",
       "<table border=\"1\" class=\"dataframe\">\n",
       "  <thead>\n",
       "    <tr style=\"text-align: right;\">\n",
       "      <th></th>\n",
       "      <th>R</th>\n",
       "      <th>L</th>\n",
       "      <th>RL</th>\n",
       "    </tr>\n",
       "  </thead>\n",
       "  <tbody>\n",
       "    <tr>\n",
       "      <th>1</th>\n",
       "      <td>0.033781</td>\n",
       "      <td>0.085600</td>\n",
       "      <td>0.103033</td>\n",
       "    </tr>\n",
       "    <tr>\n",
       "      <th>101</th>\n",
       "      <td>0.234968</td>\n",
       "      <td>0.264051</td>\n",
       "      <td>0.215078</td>\n",
       "    </tr>\n",
       "    <tr>\n",
       "      <th>201</th>\n",
       "      <td>0.247613</td>\n",
       "      <td>0.228568</td>\n",
       "      <td>0.173134</td>\n",
       "    </tr>\n",
       "    <tr>\n",
       "      <th>301</th>\n",
       "      <td>0.199334</td>\n",
       "      <td>0.230079</td>\n",
       "      <td>0.123186</td>\n",
       "    </tr>\n",
       "    <tr>\n",
       "      <th>401</th>\n",
       "      <td>0.228609</td>\n",
       "      <td>0.219584</td>\n",
       "      <td>0.151115</td>\n",
       "    </tr>\n",
       "    <tr>\n",
       "      <th>...</th>\n",
       "      <td>...</td>\n",
       "      <td>...</td>\n",
       "      <td>...</td>\n",
       "    </tr>\n",
       "    <tr>\n",
       "      <th>9501</th>\n",
       "      <td>0.211193</td>\n",
       "      <td>0.208042</td>\n",
       "      <td>0.081861</td>\n",
       "    </tr>\n",
       "    <tr>\n",
       "      <th>9601</th>\n",
       "      <td>0.217821</td>\n",
       "      <td>0.203784</td>\n",
       "      <td>0.080932</td>\n",
       "    </tr>\n",
       "    <tr>\n",
       "      <th>9701</th>\n",
       "      <td>0.218093</td>\n",
       "      <td>0.209147</td>\n",
       "      <td>0.097384</td>\n",
       "    </tr>\n",
       "    <tr>\n",
       "      <th>9801</th>\n",
       "      <td>0.220949</td>\n",
       "      <td>0.207756</td>\n",
       "      <td>0.072480</td>\n",
       "    </tr>\n",
       "    <tr>\n",
       "      <th>9901</th>\n",
       "      <td>0.205397</td>\n",
       "      <td>0.208991</td>\n",
       "      <td>0.060027</td>\n",
       "    </tr>\n",
       "  </tbody>\n",
       "</table>\n",
       "<p>100 rows × 3 columns</p>\n",
       "</div>"
      ],
      "text/plain": [
       "             R         L        RL\n",
       "1     0.033781  0.085600  0.103033\n",
       "101   0.234968  0.264051  0.215078\n",
       "201   0.247613  0.228568  0.173134\n",
       "301   0.199334  0.230079  0.123186\n",
       "401   0.228609  0.219584  0.151115\n",
       "...        ...       ...       ...\n",
       "9501  0.211193  0.208042  0.081861\n",
       "9601  0.217821  0.203784  0.080932\n",
       "9701  0.218093  0.209147  0.097384\n",
       "9801  0.220949  0.207756  0.072480\n",
       "9901  0.205397  0.208991  0.060027\n",
       "\n",
       "[100 rows x 3 columns]"
      ]
     },
     "execution_count": 4,
     "metadata": {},
     "output_type": "execute_result"
    }
   ],
   "source": [
    "df"
   ]
  },
  {
   "cell_type": "code",
   "execution_count": 5,
   "id": "9b10054d",
   "metadata": {},
   "outputs": [],
   "source": [
    "import math\n",
    "\n",
    "def triangle_area(a, b, c):\n",
    "    \"\"\"Calculate the area of a triangle given its side lengths using Heron's formula.\"\"\"\n",
    "    s = (a + b + c) / 2\n",
    "    area = math.sqrt(s * (s - a) * (s - b) * (s - c))\n",
    "    return area\n",
    "\n",
    "def calculate_changes(triangle1, triangle2):\n",
    "    \"\"\"Calculate changes in area and side lengths between two triangles.\"\"\"\n",
    "    area1 = triangle_area(*triangle1)\n",
    "    area2 = triangle_area(*triangle2)\n",
    "\n",
    "    area_change = area2 - area1\n",
    "    side_length_changes = [triangle2[i] - triangle1[i] for i in range(3)]\n",
    "\n",
    "    return area_change, side_length_changes"
   ]
  },
  {
   "cell_type": "code",
   "execution_count": 6,
   "id": "51079f19",
   "metadata": {},
   "outputs": [],
   "source": [
    "Z=df.head(1).values[0]\n",
    "def getChange(row,R0=Z[0],L0=Z[1],RL0=Z[2]):\n",
    "    return calculate_changes((R0,L0,RL0),(row.R,row.L,row.RL))[0]\n",
    "def getChangeS(row,R0=Z[0],L0=Z[1],RL0=Z[2]):\n",
    "    return .1*np.array(calculate_changes((R0,L0,RL0),(row.R,row.L,row.RL))[1]).mean()\n"
   ]
  },
  {
   "cell_type": "code",
   "execution_count": 7,
   "id": "0b1d8b52",
   "metadata": {},
   "outputs": [
    {
     "data": {
      "text/html": [
       "<div>\n",
       "<style scoped>\n",
       "    .dataframe tbody tr th:only-of-type {\n",
       "        vertical-align: middle;\n",
       "    }\n",
       "\n",
       "    .dataframe tbody tr th {\n",
       "        vertical-align: top;\n",
       "    }\n",
       "\n",
       "    .dataframe thead th {\n",
       "        text-align: right;\n",
       "    }\n",
       "</style>\n",
       "<table border=\"1\" class=\"dataframe\">\n",
       "  <thead>\n",
       "    <tr style=\"text-align: right;\">\n",
       "      <th></th>\n",
       "      <th>R</th>\n",
       "      <th>L</th>\n",
       "      <th>RL</th>\n",
       "      <th>dA</th>\n",
       "      <th>ds</th>\n",
       "    </tr>\n",
       "  </thead>\n",
       "  <tbody>\n",
       "    <tr>\n",
       "      <th>1</th>\n",
       "      <td>0.033781</td>\n",
       "      <td>0.085600</td>\n",
       "      <td>0.103033</td>\n",
       "      <td>0.000000</td>\n",
       "      <td>0.000000</td>\n",
       "    </tr>\n",
       "    <tr>\n",
       "      <th>101</th>\n",
       "      <td>0.234968</td>\n",
       "      <td>0.264051</td>\n",
       "      <td>0.215078</td>\n",
       "      <td>0.022647</td>\n",
       "      <td>0.016389</td>\n",
       "    </tr>\n",
       "    <tr>\n",
       "      <th>201</th>\n",
       "      <td>0.247613</td>\n",
       "      <td>0.228568</td>\n",
       "      <td>0.173134</td>\n",
       "      <td>0.017741</td>\n",
       "      <td>0.014230</td>\n",
       "    </tr>\n",
       "    <tr>\n",
       "      <th>301</th>\n",
       "      <td>0.199334</td>\n",
       "      <td>0.230079</td>\n",
       "      <td>0.123186</td>\n",
       "      <td>0.010925</td>\n",
       "      <td>0.011006</td>\n",
       "    </tr>\n",
       "    <tr>\n",
       "      <th>401</th>\n",
       "      <td>0.228609</td>\n",
       "      <td>0.219584</td>\n",
       "      <td>0.151115</td>\n",
       "      <td>0.014570</td>\n",
       "      <td>0.012563</td>\n",
       "    </tr>\n",
       "    <tr>\n",
       "      <th>...</th>\n",
       "      <td>...</td>\n",
       "      <td>...</td>\n",
       "      <td>...</td>\n",
       "      <td>...</td>\n",
       "      <td>...</td>\n",
       "    </tr>\n",
       "    <tr>\n",
       "      <th>9501</th>\n",
       "      <td>0.211193</td>\n",
       "      <td>0.208042</td>\n",
       "      <td>0.081861</td>\n",
       "      <td>0.007066</td>\n",
       "      <td>0.009289</td>\n",
       "    </tr>\n",
       "    <tr>\n",
       "      <th>9601</th>\n",
       "      <td>0.217821</td>\n",
       "      <td>0.203784</td>\n",
       "      <td>0.080932</td>\n",
       "      <td>0.006902</td>\n",
       "      <td>0.009337</td>\n",
       "    </tr>\n",
       "    <tr>\n",
       "      <th>9701</th>\n",
       "      <td>0.218093</td>\n",
       "      <td>0.209147</td>\n",
       "      <td>0.097384</td>\n",
       "      <td>0.008742</td>\n",
       "      <td>0.010074</td>\n",
       "    </tr>\n",
       "    <tr>\n",
       "      <th>9801</th>\n",
       "      <td>0.220949</td>\n",
       "      <td>0.207756</td>\n",
       "      <td>0.072480</td>\n",
       "      <td>0.006186</td>\n",
       "      <td>0.009292</td>\n",
       "    </tr>\n",
       "    <tr>\n",
       "      <th>9901</th>\n",
       "      <td>0.205397</td>\n",
       "      <td>0.208991</td>\n",
       "      <td>0.060027</td>\n",
       "      <td>0.004799</td>\n",
       "      <td>0.008400</td>\n",
       "    </tr>\n",
       "  </tbody>\n",
       "</table>\n",
       "<p>100 rows × 5 columns</p>\n",
       "</div>"
      ],
      "text/plain": [
       "             R         L        RL        dA        ds\n",
       "1     0.033781  0.085600  0.103033  0.000000  0.000000\n",
       "101   0.234968  0.264051  0.215078  0.022647  0.016389\n",
       "201   0.247613  0.228568  0.173134  0.017741  0.014230\n",
       "301   0.199334  0.230079  0.123186  0.010925  0.011006\n",
       "401   0.228609  0.219584  0.151115  0.014570  0.012563\n",
       "...        ...       ...       ...       ...       ...\n",
       "9501  0.211193  0.208042  0.081861  0.007066  0.009289\n",
       "9601  0.217821  0.203784  0.080932  0.006902  0.009337\n",
       "9701  0.218093  0.209147  0.097384  0.008742  0.010074\n",
       "9801  0.220949  0.207756  0.072480  0.006186  0.009292\n",
       "9901  0.205397  0.208991  0.060027  0.004799  0.008400\n",
       "\n",
       "[100 rows x 5 columns]"
      ]
     },
     "execution_count": 7,
     "metadata": {},
     "output_type": "execute_result"
    }
   ],
   "source": [
    "df['dA']=df.apply(getChange,axis=1)\n",
    "df['ds']=df.apply(getChangeS,axis=1)\n",
    "df"
   ]
  },
  {
   "cell_type": "code",
   "execution_count": 8,
   "id": "988856f3",
   "metadata": {},
   "outputs": [
    {
     "data": {
      "text/plain": [
       "<AxesSubplot:>"
      ]
     },
     "execution_count": 8,
     "metadata": {},
     "output_type": "execute_result"
    },
    {
     "data": {
      "image/png": "[encoded data removed]",
      "text/plain": [
       "<Figure size 432x288 with 1 Axes>"
      ]
     },
     "metadata": {
      "needs_background": "dark"
     },
     "output_type": "display_data"
    }
   ],
   "source": [
    "df.dA.plot(style='--o')\n",
    "#df.ds.plot(style='--o')\n"
   ]
  },
  {
   "cell_type": "code",
   "execution_count": 9,
   "id": "2460f1c0",
   "metadata": {},
   "outputs": [],
   "source": [
    "# Exponential decay function\n",
    "def exponential_decay(t, A, lambda_, B):\n",
    "    return A * np.exp(-lambda_ * t) + B\n",
    "# Exponential decay function\n",
    "def polyspike(t, a,b,c):\n",
    "    return a*t**2 + b*t + c\n",
    "N=4\n",
    "\n",
    "Model={}\n",
    "Model['spikemodel']=polyspike\n",
    "Model['decaymodel']=exponential_decay\n",
    "Model['split']=N\n",
    "Model['param_spike']=(0,0,0)\n",
    "Model['param_decay']=(0,0,0)\n",
    "Model['time'] = df.index.values.astype(float)*(1/1000)\n",
    "\n",
    "def genresponse(Model):\n",
    "    ys=Model['spikemodel'](Model['time'][:Model['split']], Model['param_spike'][0],Model['param_spike'][1],Model['param_spike'][2] )\n",
    "    yd=Model['decaymodel'](Model['time'][Model['split']:], Model['param_decay'][0],Model['param_decay'][1], Model['param_decay'][2])\n",
    "    return np.array(list(ys)+list(yd))\n",
    "\n",
    "Model['genresponse'] = genresponse\n",
    "Model['response'] = None"
   ]
  },
  {
   "cell_type": "code",
   "execution_count": 10,
   "id": "c3bb1377",
   "metadata": {},
   "outputs": [],
   "source": [
    "df_= df[N:]\n",
    "time=np.array(df_.index.values).astype(float)/10000\n",
    "variable = df_.dA.values\n",
    "from scipy.optimize import curve_fit\n",
    "paramsE, covarianceE = curve_fit(exponential_decay, time, variable,maxfev = 20000)\n",
    "\n",
    "timeA=time.copy()\n",
    "yA=exponential_decay(time, *paramsE).copy()\n",
    "Model['param_decay']=(paramsE[0],paramsE[1],paramsE[2])\n",
    "yE=exponential_decay(time, *paramsE)"
   ]
  },
  {
   "cell_type": "code",
   "execution_count": 11,
   "id": "81fb759a",
   "metadata": {},
   "outputs": [],
   "source": [
    "df_= df[:N]\n",
    "time=np.array(df_.index.values).astype(float)/10000\n",
    "variable = df_.dA.values\n",
    "from scipy.optimize import curve_fit\n",
    "paramsi, covariancei = curve_fit(polyspike, time, variable,maxfev = 20000)\n",
    "a,b,c=paramsi\n",
    "timeB=time.copy()\n",
    "yB=polyspike(time, a,b,c).copy()\n",
    "Model['param_spike']=(paramsi[0],paramsi[1],paramsi[2])"
   ]
  },
  {
   "cell_type": "code",
   "execution_count": 12,
   "id": "649dc3e0",
   "metadata": {},
   "outputs": [],
   "source": [
    "Model['response']=np.array(list(yB)+list(yE))"
   ]
  },
  {
   "cell_type": "code",
   "execution_count": 14,
   "id": "ad527ed4",
   "metadata": {},
   "outputs": [
    {
     "data": {
      "text/plain": [
       "<matplotlib.legend.Legend at 0x7f31e2e97070>"
      ]
     },
     "execution_count": 14,
     "metadata": {},
     "output_type": "execute_result"
    },
    {
     "data": {
      "image/png": "[encoded data removed]",
      "text/plain": [
       "<Figure size 432x288 with 1 Axes>"
      ]
     },
     "metadata": {
      "needs_background": "dark"
     },
     "output_type": "display_data"
    }
   ],
   "source": [
    "time=np.array(df.index.values).astype(float)\n",
    "plt.scatter(time/1000, df.dA.values, label='Data')\n",
    "#plt.plot(time[:4]*10000, polyspike(time[:4], *paramsi), label='Fit', color='red')\n",
    "plt.plot(Model['time'], Model['response'], label='Fit', color='red')\n",
    "plt.xscale('log')\n",
    "plt.xlabel('Time')\n",
    "plt.ylabel('Variable')\n",
    "plt.legend()"
   ]
  },
  {
   "cell_type": "code",
   "execution_count": 91,
   "id": "4546f5a6",
   "metadata": {},
   "outputs": [
    {
     "data": {
      "text/plain": [
       "{'spikemodel': <function __main__.polyspike(t, a, b, c)>,\n",
       " 'decaymodel': <function __main__.exponential_decay(t, A, lambda_, B)>,\n",
       " 'split': 4,\n",
       " 'param_spike': (-52.93326501038623,\n",
       "  1.851543428003441,\n",
       "  0.00023474683578532024),\n",
       " 'param_decay': (0.01643384084197413,\n",
       "  14.760734062685753,\n",
       "  -0.0029923699319757157),\n",
       " 'time': array([1.000e-03, 1.010e-01, 2.010e-01, 3.010e-01, 4.010e-01, 5.010e-01,\n",
       "        6.010e-01, 7.010e-01, 8.010e-01, 9.010e-01, 1.001e+00, 1.101e+00,\n",
       "        1.201e+00, 1.301e+00, 1.401e+00, 1.501e+00, 1.601e+00, 1.701e+00,\n",
       "        1.801e+00, 1.901e+00, 2.001e+00, 2.101e+00, 2.201e+00, 2.301e+00,\n",
       "        2.401e+00, 2.501e+00, 2.601e+00, 2.701e+00, 2.801e+00, 2.901e+00,\n",
       "        3.001e+00, 3.101e+00, 3.201e+00, 3.301e+00, 3.401e+00, 3.501e+00,\n",
       "        3.601e+00, 3.701e+00, 3.801e+00, 3.901e+00, 4.001e+00, 4.101e+00,\n",
       "        4.201e+00, 4.301e+00, 4.401e+00, 4.501e+00, 4.601e+00, 4.701e+00,\n",
       "        4.801e+00, 4.901e+00, 5.001e+00, 5.101e+00, 5.201e+00, 5.301e+00,\n",
       "        5.401e+00, 5.501e+00, 5.601e+00, 5.701e+00, 5.801e+00, 5.901e+00,\n",
       "        6.001e+00, 6.101e+00, 6.201e+00, 6.301e+00, 6.401e+00, 6.501e+00,\n",
       "        6.601e+00, 6.701e+00, 6.801e+00, 6.901e+00, 7.001e+00, 7.101e+00,\n",
       "        7.201e+00, 7.301e+00, 7.401e+00, 7.501e+00, 7.601e+00, 7.701e+00,\n",
       "        7.801e+00, 7.901e+00, 8.001e+00, 8.101e+00, 8.201e+00, 8.301e+00,\n",
       "        8.401e+00, 8.501e+00, 8.601e+00, 8.701e+00, 8.801e+00, 8.901e+00,\n",
       "        9.001e+00, 9.101e+00, 9.201e+00, 9.301e+00, 9.401e+00, 9.501e+00,\n",
       "        9.601e+00, 9.701e+00, 9.801e+00, 9.901e+00]),\n",
       " 'genresponse': <function __main__.genresponse(Model)>,\n",
       " 'response': array([ 0.00041937,  0.01353561,  0.0160652 ,  0.00800814,  0.00610001,\n",
       "         0.00485227,  0.00377574,  0.00284696,  0.00204562,  0.00135426,\n",
       "         0.00075777,  0.00024314, -0.00020087, -0.00058395, -0.00091446,\n",
       "        -0.00119961, -0.00144563, -0.00165789, -0.00184102, -0.00199902,\n",
       "        -0.00213534, -0.00225295, -0.00235442, -0.00244197, -0.0025175 ,\n",
       "        -0.00258266, -0.00263889, -0.0026874 , -0.00272925, -0.00276536,\n",
       "        -0.00279651, -0.00282339, -0.00284658, -0.00286658, -0.00288385,\n",
       "        -0.00289874, -0.00291159, -0.00292267, -0.00293224, -0.00294049,\n",
       "        -0.00294761, -0.00295375, -0.00295905, -0.00296362, -0.00296757,\n",
       "        -0.00297097, -0.00297391, -0.00297644, -0.00297863, -0.00298051,\n",
       "        -0.00298214, -0.00298354, -0.00298476, -0.0029858 , -0.0029867 ,\n",
       "        -0.00298748, -0.00298815, -0.00298873, -0.00298923, -0.00298966,\n",
       "        -0.00299003, -0.00299035, -0.00299063, -0.00299087, -0.00299107,\n",
       "        -0.00299125, -0.00299141, -0.00299154, -0.00299165, -0.00299175,\n",
       "        -0.00299184, -0.00299191, -0.00299197, -0.00299203, -0.00299207,\n",
       "        -0.00299211, -0.00299215, -0.00299218, -0.00299221, -0.00299223,\n",
       "        -0.00299225, -0.00299226, -0.00299228, -0.00299229, -0.0029923 ,\n",
       "        -0.00299231, -0.00299232, -0.00299233, -0.00299233, -0.00299234,\n",
       "        -0.00299234, -0.00299235, -0.00299235, -0.00299235, -0.00299235,\n",
       "        -0.00299236, -0.00299236, -0.00299236, -0.00299236, -0.00299236]),\n",
       " 'time_const': 14.760734062685753,\n",
       " 'half_life': 0.046958855678606096,\n",
       " 'amplitude': 1.851543428003441}"
      ]
     },
     "execution_count": 91,
     "metadata": {},
     "output_type": "execute_result"
    }
   ],
   "source": [
    "Model['time_const']=Model['param_decay'][1]\n",
    "Model['half_life'] = np.log(2) / Model['time_const']\n",
    "Model['amplitude'] = Model['param_spike'][1]\n",
    "Model"
   ]
  },
  {
   "cell_type": "code",
   "execution_count": 88,
   "id": "e69b2052",
   "metadata": {},
   "outputs": [],
   "source": []
  }
 ],
 "metadata": {
  "kernelspec": {
   "display_name": "Python 3 (ipykernel)",
   "language": "python",
   "name": "python3"
  },
  "language_info": {
   "codemirror_mode": {
    "name": "ipython",
    "version": 3
   },
   "file_extension": ".py",
   "mimetype": "text/x-python",
   "name": "python",
   "nbconvert_exporter": "python",
   "pygments_lexer": "ipython3",
   "version": "3.10.8"
  }
 },
 "nbformat": 4,
 "nbformat_minor": 5
}
