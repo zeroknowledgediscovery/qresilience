{
 "cells": [
  {
   "cell_type": "code",
   "execution_count": 24,
   "id": "6768ae21",
   "metadata": {},
   "outputs": [],
   "source": [
    "import os\n",
    "import pandas as pd\n",
    "import numpy as np\n",
    "from quasinet.qnet import Qnet, save_qnet, load_qnet, qdistance\n",
    "from quasinet.qsampling import qsample\n",
    "import argparse\n",
    "from tqdm import tqdm"
   ]
  },
  {
   "cell_type": "code",
   "execution_count": 25,
   "id": "c648d41a",
   "metadata": {},
   "outputs": [],
   "source": [
    "year = 2016\n",
    "samplesize = 100\n",
    "OUTDIR = './'\n",
    "VAR='race'\n"
   ]
  },
  {
   "cell_type": "code",
   "execution_count": 26,
   "id": "2d3c7d9a",
   "metadata": {},
   "outputs": [],
   "source": [
    "POLEFILE = '../data/polar_vectors.csv'\n",
    "MUTFILE = '../data/immutable.csv'\n",
    "FEATURESBYYEAR = '../data/features_by_year_GSS.csv'\n",
    "features_by_year = pd.read_csv(FEATURESBYYEAR,\n",
    "                               keep_default_na=True,\n",
    "                               index_col=0).set_index('year').loc[year].values[0]\n",
    "cols=eval(features_by_year)\n",
    "\n",
    "data = pd.read_csv(f'../data/gss_{year}.csv', keep_default_na=False, dtype=str)[cols]"
   ]
  },
  {
   "cell_type": "code",
   "execution_count": 27,
   "id": "44bf2253",
   "metadata": {},
   "outputs": [],
   "source": [
    "training_data = data.sample(samplesize)"
   ]
  },
  {
   "cell_type": "code",
   "execution_count": 28,
   "id": "6281e7c6",
   "metadata": {},
   "outputs": [],
   "source": [
    "if VAR:\n",
    "    vdict=data[VAR].value_counts().to_dict()\n",
    "    data_s={k:training_data[training_data[VAR]==k] for k in vdict.keys()}\n",
    "    training_data={k:d.loc[:, d.ne('').any()] for k,d in data_s.items()}\n",
    "    training_index = {k:training_data[k].index.values for k in vdict.keys()}\n",
    "    qmodel_path = {k:f'{OUTDIR}/gss_{year}{k}.pkl.gz' for k in vdict.keys()} \n",
    "    for k in vdict.keys():\n",
    "        if not os.path.exists(qmodel_path[k]):\n",
    "            X_training = training_data[k].values.astype(str)\n",
    "            Q = Qnet(feature_names=training_data[k].columns, alpha=.1)\n",
    "            Q.fit(X_training)\n",
    "            Q.training_index = training_index[k]\n",
    "            save_qnet(Q, qmodel_path[k].replace('.gz',''), gz=True)\n",
    "        else:\n",
    "            Q={k:load_qnet(qmodel_path[k]) for k in vdict.keys()} \n",
    "else:\n",
    "    qmodel_path = f'{OUTDIR}/gss_{year}.pkl.gz'\n",
    "    if not os.path.exists(qmodel_path):\n",
    "        X_training = training_data.values.astype(str)\n",
    "        Q = Qnet(feature_names=training_data.columns, alpha=.1)\n",
    "        Q.fit(X_training)\n",
    "        Q.training_index = training_index\n",
    "        save_qnet(Q, qmodel_path.replace('.gz',''), gz=True)\n",
    "    else:\n",
    "        Q=load_qnet(qmodel_path)\n"
   ]
  },
  {
   "cell_type": "code",
   "execution_count": 34,
   "id": "cfa8a5c6",
   "metadata": {},
   "outputs": [],
   "source": [
    "\n",
    "def triangle_area(a, b, c):\n",
    "    \"\"\"Calculate the area of a triangle given its side lengths using Heron's formula.\"\"\"\n",
    "    s = (a + b + c) / 2\n",
    "    a=(s * (s - a) * (s - b) * (s - c))\n",
    "    if a > 0:\n",
    "         return math.sqrt(s * (s - a) * (s - b) * (s - c))\n",
    "    else:\n",
    "         return 0.\n",
    "\n",
    "def calculate_changes(triangle1, triangle2):\n",
    "    \"\"\"Calculate changes in area and side lengths between two triangles.\"\"\"\n",
    "    area1 = triangle_area(*triangle1)\n",
    "    area2 = triangle_area(*triangle2)\n",
    "\n",
    "    area_change = area2 - area1\n",
    "    #side_length_changes = [triangle2[i] - triangle1[i] for i in range(3)]\n",
    "\n",
    "    return area_change\n",
    "\n",
    "\n",
    "def getTau(df):\n",
    "\n",
    "    Z=df.head(1).values[0]\n",
    "    def getChange(row,R0=Z[0],L0=Z[1],RL0=Z[2]):\n",
    "        return calculate_changes((R0,L0,RL0),(row.R,row.L,row.RL))\n",
    "    \n",
    "    df['dA']=df.apply(getChange,axis=1)\n",
    "    N=4\n",
    "    df_= df[N:]\n",
    "\n",
    "    response_data = df_['dA'].values\n",
    "    time = np.arange(len(response_data))\n",
    "\n",
    "    def decay_function(t, A, tau, C):\n",
    "        return A * np.exp(-t / tau) + C\n",
    "\n",
    "    params, covariance = curve_fit(decay_function, time, response_data)\n",
    "    return params[1],np.sqrt(covariance[1][1])\n"
   ]
  },
  {
   "cell_type": "code",
   "execution_count": 39,
   "id": "ee2ef239",
   "metadata": {},
   "outputs": [
    {
     "name": "stderr",
     "output_type": "stream",
     "text": [
      "100%|███████████████████████████████████████████| 10/10 [00:25<00:00,  2.52s/it]\n"
     ]
    },
    {
     "name": "stdout",
     "output_type": "stream",
     "text": [
      "2016 white 60.792134872003864 1075.1695417050048\n"
     ]
    },
    {
     "name": "stderr",
     "output_type": "stream",
     "text": [
      "  0%|                                                    | 0/10 [19:30<?, ?it/s]\n",
      "100%|███████████████████████████████████████████| 10/10 [00:12<00:00,  1.21s/it]\n"
     ]
    },
    {
     "name": "stdout",
     "output_type": "stream",
     "text": [
      "2016 black 1.1393246287182266 0.14614660826763204\n"
     ]
    },
    {
     "name": "stderr",
     "output_type": "stream",
     "text": [
      "100%|███████████████████████████████████████████| 10/10 [00:09<00:00,  1.03it/s]"
     ]
    },
    {
     "name": "stdout",
     "output_type": "stream",
     "text": [
      "2016 other 22342.87138362543 240425014.86756015\n"
     ]
    },
    {
     "name": "stderr",
     "output_type": "stream",
     "text": [
      "\n"
     ]
    }
   ],
   "source": [
    "import math\n",
    "from scipy.optimize import curve_fit\n",
    "\n",
    "sp=pd.read_csv(POLEFILE, index_col=0).T\n",
    "T=1000\n",
    "if VAR:\n",
    "    \n",
    "    for k in vdict.keys():\n",
    "        NULL={k:np.array(['']*len(Q[k].feature_names)).astype('U100') for k in vdict.keys()} \n",
    "        sp_={k:pd.concat([pd.DataFrame(columns=Q[k].feature_names),\n",
    "                       sp])[Q[k].feature_names].fillna('').values.astype(str) \n",
    "             for k in vdict.keys()} \n",
    "        \n",
    "        D=pd.DataFrame({m:\n",
    "                        (qdistance(qsample(sp_[k][0],Q[k],steps=m),NULL[k],Q[k],Q[k]),\n",
    "                         qdistance(qsample(sp_[k][1],Q[k],steps=m),NULL[k],Q[k],Q[k]),\n",
    "                         qdistance(qsample(sp_[k][0],Q[k],steps=m),\n",
    "                                   qsample(sp_[k][1],Q[k],steps=m),Q[k],Q[k]))\n",
    "                        for m in tqdm(np.arange(1,T,100))})\n",
    "        D.to_csv(f'{OUTDIR}/relaxation_{year}{k}.csv')\n",
    "        tau,cov=getTau(D.T.rename(columns={0:'R',1:'L',2:'RL'}))\n",
    "        print(year,k,tau,cov)\n",
    "else:\n",
    "    sp_=pd.concat([pd.DataFrame(columns=feature_names),\n",
    "               sp])[feature_names].fillna('').values.astype(str)\n",
    "\n",
    "    NULL=np.array(['']*len(Q.feature_names)).astype('U100')\n",
    "    D=pd.DataFrame({m:\n",
    "                    (qdistance(qsample(sp_[0],Q,steps=m),NULL,Q,Q),\n",
    "                     qdistance(qsample(sp_[1],Q,steps=m),NULL,Q,Q),\n",
    "                     qdistance(qsample(sp_[0],Q,steps=m),\n",
    "                               qsample(sp_[1],Q,steps=m),Q,Q))\n",
    "                    for m in tqdm(np.arange(1,T,100))})\n",
    "    D.to_csv(f'{OUTDIR}/relaxation_{year}.csv')\n"
   ]
  },
  {
   "cell_type": "code",
   "execution_count": null,
   "id": "75db28c0",
   "metadata": {},
   "outputs": [],
   "source": [
    "Q"
   ]
  },
  {
   "cell_type": "code",
   "execution_count": null,
   "id": "252244cb",
   "metadata": {},
   "outputs": [],
   "source": []
  }
 ],
 "metadata": {
  "kernelspec": {
   "display_name": "Python 3 (ipykernel)",
   "language": "python",
   "name": "python3"
  },
  "language_info": {
   "codemirror_mode": {
    "name": "ipython",
    "version": 3
   },
   "file_extension": ".py",
   "mimetype": "text/x-python",
   "name": "python",
   "nbconvert_exporter": "python",
   "pygments_lexer": "ipython3",
   "version": "3.10.8"
  }
 },
 "nbformat": 4,
 "nbformat_minor": 5
}
