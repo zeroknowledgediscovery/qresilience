{
 "cells": [
  {
   "cell_type": "code",
   "execution_count": 2,
   "id": "059c95cd",
   "metadata": {},
   "outputs": [],
   "source": [
    "import pandas as pd\n",
    "import numpy as np\n",
    "import pylab as plt\n",
    "from scipy.optimize import curve_fit\n",
    "import math"
   ]
  },
  {
   "cell_type": "code",
   "execution_count": 3,
   "id": "b4f43e7f-d1b1-497e-83d9-7905b7fee734",
   "metadata": {},
   "outputs": [],
   "source": [
    "import pylab as plt\n",
    "import random\n",
    "from quasinet.qnet import load_qnet\n",
    "from quasinet.utils import numparameters\n",
    "import numpy as np\n",
    "import pandas as pd"
   ]
  },
  {
   "cell_type": "code",
   "execution_count": 4,
   "id": "d273734b-7867-4b9b-8d52-61761c555556",
   "metadata": {},
   "outputs": [],
   "source": [
    "def getentropy(arr):\n",
    "    return np.array([-i*(np.log(i+0.001)/np.log(len(arr))) for i in arr]).sum()"
   ]
  },
  {
   "cell_type": "code",
   "execution_count": 5,
   "id": "b6162f48-398e-4eb5-a2e4-775576ac4904",
   "metadata": {},
   "outputs": [],
   "source": [
    "Q=load_qnet('../qmodels/gss_1983.pkl.gz',gz=True)"
   ]
  },
  {
   "cell_type": "code",
   "execution_count": 6,
   "id": "d1feacb4-e7bd-465d-a739-08d2b3c8fafc",
   "metadata": {},
   "outputs": [
    {
     "data": {
      "text/plain": [
       "130944"
      ]
     },
     "execution_count": 6,
     "metadata": {},
     "output_type": "execute_result"
    }
   ],
   "source": [
    "numparameters(Q)"
   ]
  },
  {
   "cell_type": "code",
   "execution_count": 26,
   "id": "1ea4cc36-9d7f-4560-b672-97fb84bfe0d6",
   "metadata": {},
   "outputs": [],
   "source": [
    "\n",
    "def getPole(Q,\n",
    "            num_elements_to_select=30,\n",
    "            immutable='../data/immutable.csv',\n",
    "           EXCEPT=['form','found','POSTLF2','POSTLF3','POSTLF4','POSTLF5','POSTLF9','POSTLF10','SPFUND16']):\n",
    "    \n",
    "    nsp=np.array(['']*len(Q.feature_names)).astype('U100')\n",
    "    Dq=Q.predict_distributions(nsp)\n",
    "    E=[getentropy(np.array(list(d.values()))) for d in Dq]\n",
    "    \n",
    "    Ef=pd.DataFrame(E,Q.feature_names,columns=['ent'])\n",
    "    Ef=Ef.sort_values('ent',ascending=False)\n",
    "    Ef=Ef[Ef.ent>0]\n",
    "    rf=pd.read_csv(immutable,header=None)\n",
    "    \n",
    "    except_=EXCEPT\n",
    "    valid0=[x for x in Ef.index.values if x not in rf.values]\n",
    "    valid1=[x for x in valid0 if x not in except_]\n",
    "    allitems=valid1\n",
    "    pole_items = random.sample(allitems, num_elements_to_select)\n",
    "    \n",
    "    feature_names=np.array(Q.feature_names)\n",
    "    itemindex=[np.where(feature_names==i) [0][0] for i in pole_items]\n",
    "    pf= pd.DataFrame({feature_names[i]:sorted(Dq[i], \n",
    "                                                 key=Dq[i].get, reverse=True)[:2] \n",
    "                         for i in itemindex}).rename(index={0:'R',1:'L'}).T\n",
    "    \n",
    "    return pf,pd.concat([pd.DataFrame(columns=Q.feature_names),poles.T]).fillna('').values.astype(str)"
   ]
  },
  {
   "cell_type": "code",
   "execution_count": 27,
   "id": "adcec284-6b54-497c-a795-28dc13a2da66",
   "metadata": {},
   "outputs": [],
   "source": [
    "poles,poleseq=getPole(Q,num_elements_to_select=30)"
   ]
  },
  {
   "cell_type": "code",
   "execution_count": 15,
   "id": "decf6a6d-e2f4-4bbd-97a8-f23b1d3405e4",
   "metadata": {},
   "outputs": [],
   "source": [
    "from quasinet.qnet import qdistance\n",
    "from quasinet.qsampling import qsample"
   ]
  },
  {
   "cell_type": "code",
   "execution_count": null,
   "id": "fbe10db3-88e1-4f30-8a09-b8fb5d66dfd1",
   "metadata": {},
   "outputs": [],
   "source": [
    "qdistance(poleseq[0],poleseq[1],Q,Q)"
   ]
  },
  {
   "cell_type": "code",
   "execution_count": null,
   "id": "984e0b49-efcd-4ee7-99e4-55de30d95a86",
   "metadata": {},
   "outputs": [],
   "source": []
  }
 ],
 "metadata": {
  "kernelspec": {
   "display_name": "Python 3 (ipykernel)",
   "language": "python",
   "name": "python3"
  },
  "language_info": {
   "codemirror_mode": {
    "name": "ipython",
    "version": 3
   },
   "file_extension": ".py",
   "mimetype": "text/x-python",
   "name": "python",
   "nbconvert_exporter": "python",
   "pygments_lexer": "ipython3",
   "version": "3.9.18"
  }
 },
 "nbformat": 4,
 "nbformat_minor": 5
}
